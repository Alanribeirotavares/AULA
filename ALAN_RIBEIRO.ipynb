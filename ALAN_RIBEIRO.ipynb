{
  "nbformat": 4,
  "nbformat_minor": 0,
  "metadata": {
    "colab": {
      "name": "ALAN RIBEIRO",
      "provenance": [],
      "collapsed_sections": [],
      "authorship_tag": "ABX9TyM4eoE1gvoPtl9HfBi9g/V/",
      "include_colab_link": true
    },
    "kernelspec": {
      "name": "python3",
      "display_name": "Python 3"
    }
  },
  "cells": [
    {
      "cell_type": "markdown",
      "metadata": {
        "id": "view-in-github",
        "colab_type": "text"
      },
      "source": [
        "<a href=\"https://colab.research.google.com/github/Alanribeirotavares/AULA/blob/master/ALAN_RIBEIRO.ipynb\" target=\"_parent\"><img src=\"https://colab.research.google.com/assets/colab-badge.svg\" alt=\"Open In Colab\"/></a>"
      ]
    },
    {
      "cell_type": "code",
      "metadata": {
        "id": "dO5MUDsEWXHl",
        "colab_type": "code",
        "colab": {}
      },
      "source": [
        "print (\"Olá, mundo\")"
      ],
      "execution_count": null,
      "outputs": []
    },
    {
      "cell_type": "code",
      "metadata": {
        "id": "bkHeIU71AFjo",
        "colab_type": "code",
        "colab": {
          "base_uri": "https://localhost:8080/",
          "height": 34
        },
        "outputId": "9df55174-ae5d-4d7e-917f-16e33f8a8d3b"
      },
      "source": [
        "nota = (2+2)\n",
        "nota"
      ],
      "execution_count": 4,
      "outputs": [
        {
          "output_type": "execute_result",
          "data": {
            "text/plain": [
              "4"
            ]
          },
          "metadata": {
            "tags": []
          },
          "execution_count": 4
        }
      ]
    },
    {
      "cell_type": "markdown",
      "metadata": {
        "id": "z1FOtG2yCoWY",
        "colab_type": "text"
      },
      "source": [
        ""
      ]
    },
    {
      "cell_type": "code",
      "metadata": {
        "id": "LA37Hs5PywIZ",
        "colab_type": "code",
        "colab": {}
      },
      "source": [
        "print ( 7 + 8 )"
      ],
      "execution_count": null,
      "outputs": []
    },
    {
      "cell_type": "code",
      "metadata": {
        "id": "0BkGYr9Dyyz7",
        "colab_type": "code",
        "colab": {}
      },
      "source": [
        "print ( '7' + '8' )"
      ],
      "execution_count": null,
      "outputs": []
    },
    {
      "cell_type": "code",
      "metadata": {
        "id": "laO2rKqezF-L",
        "colab_type": "code",
        "colab": {}
      },
      "source": [
        "nome = 'alan'\n",
        ">>> idade = 33\n",
        ">>> peso = 76.5\n",
        ">>> print ( nome , idade , peso )"
      ],
      "execution_count": null,
      "outputs": []
    },
    {
      "cell_type": "code",
      "metadata": {
        "id": "mNtqNXTe3HCs",
        "colab_type": "code",
        "colab": {}
      },
      "source": [
        "nome = input ('Qual seu nome')\n",
        ">>> idade = input ('Qual sua idade')\n",
        ">>> peso = input ('Qual seu peso')\n",
        ">>> print ( nome , idade , peso )"
      ],
      "execution_count": null,
      "outputs": []
    },
    {
      "cell_type": "code",
      "metadata": {
        "id": "LP3HWcYp-Cja",
        "colab_type": "code",
        "colab": {}
      },
      "source": [
        "nome = input ('Qual é seu nome')\n",
        "print ( 'Olá,'+nome+'! Praser em te conhecer')"
      ],
      "execution_count": null,
      "outputs": []
    },
    {
      "cell_type": "code",
      "metadata": {
        "id": "VHJKFjXHAkjr",
        "colab_type": "code",
        "colab": {}
      },
      "source": [
        "dia = input ('Dia')\n",
        "mês = input ('Mês')\n",
        "ano = input ('Ano')\n",
        "print ( 'Você nasceu no dia,'+dia+' de '+mês+' de '+ano+'.correto?')"
      ],
      "execution_count": null,
      "outputs": []
    }
  ]
}